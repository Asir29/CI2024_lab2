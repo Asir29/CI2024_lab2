{
 "cells": [
  {
   "cell_type": "markdown",
   "metadata": {},
   "source": [
    "### Author : Antonio Sirica - Course : Computational Intelligence"
   ]
  },
  {
   "cell_type": "code",
   "execution_count": null,
   "metadata": {},
   "outputs": [],
   "source": [
    "import logging\n",
    "from itertools import combinations\n",
    "import pandas as pd\n",
    "import numpy as np\n",
    "%pip install geopy\n",
    "from geopy.distance import geodesic #geodesic distance\n",
    "%pip install networkx\n",
    "import networkx as nx #library for graphs\n",
    "from random import random, seed, shuffle\n",
    "from dataclasses import dataclass\n",
    "import random\n",
    "from icecream import ic\n",
    "\n",
    "logging.basicConfig(level=logging.DEBUG)"
   ]
  },
  {
   "cell_type": "markdown",
   "metadata": {},
   "source": [
    "# Instance 1"
   ]
  },
  {
   "cell_type": "code",
   "execution_count": null,
   "metadata": {},
   "outputs": [],
   "source": [
    "CITIES = pd.read_csv('cities/italy.csv', header=None, names=['name', 'lat', 'lon'])\n"
   ]
  },
  {
   "cell_type": "markdown",
   "metadata": {},
   "source": [
    "# Instance 2"
   ]
  },
  {
   "cell_type": "code",
   "execution_count": 108,
   "metadata": {},
   "outputs": [],
   "source": [
    "CITIES = pd.read_csv('cities/us.csv', header=None, names=['name', 'lat', 'lon'])\n"
   ]
  },
  {
   "cell_type": "markdown",
   "metadata": {},
   "source": [
    "# Instance 3"
   ]
  },
  {
   "cell_type": "code",
   "execution_count": null,
   "metadata": {},
   "outputs": [],
   "source": [
    "CITIES = pd.read_csv('cities/china.csv', header=None, names=['name', 'lat', 'lon'])\n"
   ]
  },
  {
   "cell_type": "markdown",
   "metadata": {},
   "source": [
    "# Instance 4"
   ]
  },
  {
   "cell_type": "code",
   "execution_count": null,
   "metadata": {},
   "outputs": [],
   "source": [
    "CITIES = pd.read_csv('cities/vanuatu.csv', header=None, names=['name', 'lat', 'lon'])\n"
   ]
  },
  {
   "cell_type": "markdown",
   "metadata": {},
   "source": [
    "# Instance 5"
   ]
  },
  {
   "cell_type": "code",
   "execution_count": null,
   "metadata": {},
   "outputs": [],
   "source": [
    "CITIES = pd.read_csv('cities/russia.csv', header=None, names=['name', 'lat', 'lon'])\n"
   ]
  },
  {
   "cell_type": "markdown",
   "metadata": {},
   "source": [
    "# Execute from here with the chosen instance"
   ]
  },
  {
   "cell_type": "code",
   "execution_count": null,
   "metadata": {},
   "outputs": [],
   "source": [
    "DIST_MATRIX = np.zeros((len(CITIES), len(CITIES)))\n",
    "for c1, c2 in combinations(CITIES.itertuples(), 2): # unique pairs of cities\n",
    "    DIST_MATRIX[c1.Index, c2.Index] = DIST_MATRIX[c2.Index, c1.Index] = geodesic(\n",
    "        (c1.lat, c1.lon), (c2.lat, c2.lon)\n",
    "    ).km #calculates the geodesic (surface distance on the Earth's sphere) in kilometers between the coordinates of c1 and c2\n",
    "    #distances are stored symmetrically in DIST_MATRIX \n",
    "CITIES.head()\n",
    "\n",
    "#df=pd.DataFrame(DIST_MATRIX)\n",
    "#df.head()\n"
   ]
  },
  {
   "cell_type": "code",
   "execution_count": 110,
   "metadata": {},
   "outputs": [],
   "source": [
    "def tsp_cost(tsp):\n",
    "    assert tsp[0] == tsp[-1]\n",
    "    #assert set(tsp) == set(range(len(CITIES)))\n",
    "\n",
    "    tot_cost = 0\n",
    "    for c1, c2 in zip(tsp, tsp[1:]): #two separate sequences that are being zipped together to create pairs of elements.\n",
    "        tot_cost += DIST_MATRIX[c1, c2]\n",
    "    return tot_cost"
   ]
  },
  {
   "cell_type": "markdown",
   "metadata": {},
   "source": [
    "# Random Initialization of an optimal TSP\n"
   ]
  },
  {
   "cell_type": "code",
   "execution_count": 100,
   "metadata": {},
   "outputs": [],
   "source": [
    "POPULATION_SIZE = 100\n",
    "OFFSPRING_SIZE = 10_000\n",
    "\n",
    "city = 0\n",
    "vec = list(range(1, len(CITIES)))  # Convert range to a list so it can be shuffled\n",
    "random.shuffle(vec)                # Shuffle vec in place\n",
    "tsp = list()\n",
    "tsp = [city] + vec + [city]        # Create tsp by starting and ending with city\n"
   ]
  },
  {
   "cell_type": "markdown",
   "metadata": {},
   "source": [
    "# Greedy Initialization of an optimal TSP "
   ]
  },
  {
   "cell_type": "code",
   "execution_count": null,
   "metadata": {},
   "outputs": [],
   "source": [
    "POPULATION_SIZE = 10\n",
    "OFFSPRING_SIZE = 5_000\n",
    "\n",
    "visited = np.full(len(CITIES), False)\n",
    "dist = DIST_MATRIX.copy()\n",
    "city = 0\n",
    "visited[city] = True\n",
    "tsp = list()\n",
    "tsp.append(int(city))\n",
    "while not np.all(visited):\n",
    "    dist[:, city] = np.inf  #marks the city as \"visited\" by making it impossible to be selected again\n",
    "    closest = np.argmin(dist[city])\n",
    "    logging.debug(\n",
    "        f\"step: {CITIES.at[city,'name']} -> {CITIES.at[closest,'name']} ({DIST_MATRIX[city,closest]:.2f}km)\"\n",
    "    )\n",
    "    visited[closest] = True\n",
    "    city = closest #current city\n",
    "    tsp.append(int(city))\n",
    "logging.debug(\n",
    "    f\"step: {CITIES.at[tsp[-1],'name']} -> {CITIES.at[tsp[0],'name']} ({DIST_MATRIX[tsp[-1],tsp[0]]:.2f}km)\"\n",
    ")\n",
    "tsp.append(tsp[0]) #back to starting\n",
    "\n",
    "\n",
    "\n",
    "#randomized_tsp = tsp[45:len(tsp)-1]\n",
    "#random.shuffle(randomized_tsp) #shuffle works in place\n",
    "#tsp[45:len(tsp)-1] = randomized_tsp\n",
    "\n",
    "\n",
    "logging.info(f\"result: Found a path of {len(tsp)-1} steps, total length {tsp_cost(tsp):.2f}km\")"
   ]
  },
  {
   "cell_type": "markdown",
   "metadata": {},
   "source": [
    "# Evolutionary Algorithm"
   ]
  },
  {
   "cell_type": "code",
   "execution_count": null,
   "metadata": {},
   "outputs": [],
   "source": [
    "\n",
    "#dataclass container of different field, printable easily\n",
    "@dataclass \n",
    "class Individual:\n",
    "    genome: list\n",
    "    fitness: float = None\n",
    "\n",
    "\n",
    "def fitness(individual):\n",
    "    return -float(tsp_cost(individual.genome))\n",
    "\n",
    "def parent_selection(population):\n",
    "    candidates = sorted(np.random.choice(population, 2), key=lambda e: e.fitness, reverse=True)\n",
    "    return candidates[0]\n",
    "\n",
    "\n",
    "def xover(p1: Individual, p2: Individual):\n",
    "    \n",
    "    m = random.randint(1, len(p1.genome) - 1)\n",
    "    #ic(m)\n",
    "    genome = p1.genome.copy()\n",
    "    genome[m] = p2.genome[m]\n",
    "    return Individual(genome=genome)\n",
    "\n",
    "\n",
    "def inver_over(p1: Individual, p2: Individual) -> Individual:\n",
    "    genome_no_first1 = p1.genome[1:-1]\n",
    "    genome_no_first2 = p2.genome[1:-1]\n",
    "\n",
    "    # Select a random gene from the first parent's middle section\n",
    "    m1 = random.randint(0, len(genome_no_first1) - 1)\n",
    "    gene_from_first = genome_no_first1[m1]\n",
    "\n",
    "    # Find the position of the same gene in the second parent, or next valid edge\n",
    "    try:\n",
    "        m2 = genome_no_first2.index(gene_from_first) + 1\n",
    "        if m2 >= len(genome_no_first2):\n",
    "            m2 = 0  # Wrap-around if it exceeds bounds\n",
    "    except ValueError:\n",
    "        return p1  # Fallback if gene not found in second parent\n",
    "\n",
    "    edge_from_second = genome_no_first2[m2]\n",
    "\n",
    "    # Find the position of this edge in the first parent's genome\n",
    "    try:\n",
    "        m3 = genome_no_first1.index(edge_from_second)\n",
    "    except ValueError:\n",
    "        return p1  # Fallback if edge not found\n",
    "\n",
    "    # Sort the indices to reverse elements between them\n",
    "    idx1, idx2 = sorted([m1, m3])\n",
    "    #ic(idx1,idx2)\n",
    "\n",
    "    # Selected and between-elements for new recombination\n",
    "    selected_elements = [genome_no_first1[idx1], genome_no_first1[idx2]]\n",
    "    elements_between = genome_no_first1[idx1 + 1: idx2]\n",
    "    elements_between.reverse()\n",
    "\n",
    "    # Untouched elements around the selected indices\n",
    "    untouched_elements = genome_no_first1[:idx1] + genome_no_first1[idx2 + 1:]\n",
    "\n",
    "    # Construct the new genome, preserving the first and last element of parent 1\n",
    "    new_array = [p1.genome[0]] + list(dict.fromkeys(untouched_elements + selected_elements + elements_between)) + [p1.genome[-1]]\n",
    "\n",
    "    return Individual(genome=new_array)\n",
    "\n",
    "# Example usage\n",
    "first_genome = [1, 2, 3, 4, 5, 6, 7, 8, 9, 10, 11, 1]\n",
    "second_genome = [1, 4, 6, 8, 2, 5, 3, 7, 9, 10, 11, 1]\n",
    "\n",
    "result = inver_over(Individual(genome=first_genome), Individual(genome=second_genome))\n",
    "\n",
    "print(\"Resulting List:\", result.genome)\n",
    "print(\"Length of Resulting Genome:\", len(result.genome))\n",
    "\n",
    "\n",
    "\n",
    "\n",
    "\n"
   ]
  },
  {
   "cell_type": "code",
   "execution_count": null,
   "metadata": {},
   "outputs": [],
   "source": [
    "def inversion_mutation(genome):\n",
    "    \"\"\"Applies inversion mutation on a genome sequence.\n",
    "       Two loci are selected, and the alleles between them are inverted.\n",
    "       The first and last elements remain untouched.\n",
    "    \"\"\"\n",
    "    # Choose two random indices, excluding the first and last elements\n",
    "    idx1, idx2 = sorted(random.sample(range(1, len(genome) - 1), 2))\n",
    "    \n",
    "    # Invert the elements between idx1 and idx2\n",
    "    inverted_segment = genome[idx1:idx2 + 1][::-1]\n",
    "    \n",
    "    # Create the new genome by preserving the first, last, and non-inverted segments\n",
    "    new_genome = genome[:idx1] + inverted_segment + genome[idx2 + 1:]\n",
    "    \n",
    "    return new_genome\n",
    "\n",
    "# Example usage\n",
    "original_genome = [1, 2, 3, 4, 5, 6, 7]\n",
    "result = inversion_mutation(original_genome)\n",
    "print(\"Original List:\", original_genome)\n",
    "print(\"Resulting List:\", result)"
   ]
  },
  {
   "cell_type": "markdown",
   "metadata": {},
   "source": [
    "## Starting Population"
   ]
  },
  {
   "cell_type": "code",
   "execution_count": 114,
   "metadata": {},
   "outputs": [],
   "source": [
    "\n",
    "\n",
    "first_individual = Individual(genome=tsp)\n",
    "first_individual.fitness = fitness(first_individual)\n",
    "\n",
    "num_individuals = 1  # Start with the first individual\n",
    "f = tsp_cost(first_individual.genome)  # Initial cost for the first individual\n",
    "\n",
    "# Create a list to store individuals in the population\n",
    "population = list()\n",
    "\n",
    "# Mutate until the population reaches the specified size\n",
    "while num_individuals < POPULATION_SIZE:\n",
    "    # Create a copy of the first individual for mutation\n",
    "    copy = first_individual.genome.copy()\n",
    "\n",
    "    # Perform the mutation to generate a new individual\n",
    "    new_individual_genome = inversion_mutation(copy)\n",
    "\n",
    "    # Create and evaluate the new individual\n",
    "    new_individual = Individual(genome=new_individual_genome)\n",
    "    new_individual.fitness = fitness(new_individual)\n",
    "\n",
    "    # Append only if the new individual's fitness exceeds the threshold\n",
    "    if new_individual.fitness > first_individual.fitness:\n",
    "        population.append(new_individual)\n",
    "        num_individuals += 1\n",
    "        #ic(num_individuals, new_individual.fitness)\n",
    "        \n"
   ]
  },
  {
   "cell_type": "markdown",
   "metadata": {},
   "source": [
    "## Offspring step"
   ]
  },
  {
   "cell_type": "code",
   "execution_count": null,
   "metadata": {},
   "outputs": [],
   "source": [
    "\n",
    "\n",
    "offspring = list()\n",
    "for _ in range(OFFSPRING_SIZE):\n",
    "    i1 = parent_selection(population)\n",
    "    i2 = parent_selection(population)\n",
    "    #o = xover(i1, i2)\n",
    "    o = inver_over(i1, i2)\n",
    "    offspring.append(o)\n",
    "\n",
    "for i in offspring:\n",
    "    i.fitness = fitness(i)\n",
    "\n",
    "population.extend(offspring)\n",
    "population.sort(key=lambda i: i.fitness, reverse=True)\n",
    "population = population[:POPULATION_SIZE]\n",
    "\n",
    "\n",
    "print(population[0])\n",
    "ic(len(population[0].genome))\n"
   ]
  }
 ],
 "metadata": {
  "kernelspec": {
   "display_name": "Python 3",
   "language": "python",
   "name": "python3"
  },
  "language_info": {
   "codemirror_mode": {
    "name": "ipython",
    "version": 3
   },
   "file_extension": ".py",
   "mimetype": "text/x-python",
   "name": "python",
   "nbconvert_exporter": "python",
   "pygments_lexer": "ipython3",
   "version": "3.11.3"
  }
 },
 "nbformat": 4,
 "nbformat_minor": 2
}
